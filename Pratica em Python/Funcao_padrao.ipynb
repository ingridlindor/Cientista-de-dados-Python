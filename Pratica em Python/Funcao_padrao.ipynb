{
 "cells": [
  {
   "cell_type": "code",
   "execution_count": 5,
   "id": "a9ebc472",
   "metadata": {},
   "outputs": [
    {
     "name": "stdout",
     "output_type": "stream",
     "text": [
      "200\n",
      "Maior valor:  45\n",
      "Menor valor: 1\n",
      "Soma:  108\n",
      "Arredondamento:  2.23\n"
     ]
    }
   ],
   "source": [
    "#funcoes internas\n",
    "print(abs(-200)) #valor absoluto\n",
    "lst=[1,2,30,30,45]\n",
    "print('Maior valor: ', max(lst))\n",
    "print('Menor valor:', min(lst))\n",
    "print('Soma: ', sum(lst))\n",
    "print('Arredondamento: ', round(2.23465,2))"
   ]
  },
  {
   "cell_type": "code",
   "execution_count": 6,
   "id": "6aec715f",
   "metadata": {},
   "outputs": [
    {
     "name": "stdout",
     "output_type": "stream",
     "text": [
      "Media:  21.6\n",
      "Mediana:  30\n",
      "Moda:  30\n"
     ]
    }
   ],
   "source": [
    "#statistica\n",
    "from statistics import *\n",
    "print('Media: ', mean(lst))\n",
    "print('Mediana: ', median(lst))\n",
    "print('Moda: ', mode(lst))\n"
   ]
  },
  {
   "cell_type": "code",
   "execution_count": 7,
   "id": "0832dc86",
   "metadata": {},
   "outputs": [
    {
     "name": "stdout",
     "output_type": "stream",
     "text": [
      "Desvio Padrão:  19.346834366376324\n"
     ]
    }
   ],
   "source": [
    "#devsvio padrao \n",
    "print('Desvio Padrão: ', stdev(lst))"
   ]
  },
  {
   "cell_type": "code",
   "execution_count": 8,
   "id": "5cd71162",
   "metadata": {},
   "outputs": [
    {
     "name": "stdout",
     "output_type": "stream",
     "text": [
      "variancia:  374.3\n"
     ]
    }
   ],
   "source": [
    "#variança\n",
    "print('variancia: ', variance(lst))"
   ]
  },
  {
   "cell_type": "code",
   "execution_count": 9,
   "id": "b13a0ce7",
   "metadata": {},
   "outputs": [
    {
     "name": "stdout",
     "output_type": "stream",
     "text": [
      "<class 'numpy.ndarray'>\n",
      "[[6.74610376e-01 5.44268613e-01 2.25080811e-01 4.70650918e-01\n",
      "  2.80402305e-01 7.41162730e-01 4.22210536e-01 6.13342988e-01]\n",
      " [1.10991652e-01 8.09691304e-01 6.95532711e-02 4.89493855e-01\n",
      "  2.71448652e-01 3.76400189e-04 4.36988669e-01 1.11620366e-01]\n",
      " [5.95730761e-01 9.90709768e-01 6.84348985e-01 3.68978345e-01\n",
      "  1.18404943e-02 4.54796674e-01 2.13061596e-01 2.66998916e-01]\n",
      " [2.91573872e-01 6.76894848e-01 6.63155765e-01 8.91190590e-01\n",
      "  7.37419542e-01 2.81569635e-01 3.59969601e-01 7.59097286e-01]\n",
      " [8.03409237e-01 6.38097171e-01 1.07697866e-01 1.62805347e-01\n",
      "  8.55461089e-02 1.76169428e-01 5.43169296e-01 4.08182697e-01]\n",
      " [4.46123711e-01 1.64805725e-01 9.24458971e-01 1.97712474e-01\n",
      "  9.19630211e-01 6.05131883e-01 5.65394540e-01 3.08093547e-01]\n",
      " [9.02848199e-01 1.73438937e-02 8.49558462e-01 4.12360176e-01\n",
      "  8.62442826e-01 2.75432828e-01 4.24420133e-01 9.19556940e-01]\n",
      " [3.13514565e-01 9.82167844e-01 5.54057304e-01 4.64660932e-01\n",
      "  3.63996492e-02 6.34786809e-01 6.56034113e-01 3.96555052e-01]]\n"
     ]
    }
   ],
   "source": [
    "from numpy import *\n",
    "a =random.random((8,8))\n",
    "print(type(a))\n",
    "print(a)"
   ]
  },
  {
   "cell_type": "code",
   "execution_count": null,
   "id": "883390dd",
   "metadata": {},
   "outputs": [],
   "source": []
  }
 ],
 "metadata": {
  "kernelspec": {
   "display_name": "base",
   "language": "python",
   "name": "python3"
  },
  "language_info": {
   "codemirror_mode": {
    "name": "ipython",
    "version": 3
   },
   "file_extension": ".py",
   "mimetype": "text/x-python",
   "name": "python",
   "nbconvert_exporter": "python",
   "pygments_lexer": "ipython3",
   "version": "3.12.7"
  }
 },
 "nbformat": 4,
 "nbformat_minor": 5
}
