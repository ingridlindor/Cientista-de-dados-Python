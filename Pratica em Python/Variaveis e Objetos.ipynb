{
 "cells": [
  {
   "cell_type": "code",
   "execution_count": 2,
   "id": "17ad3152-f86b-41b9-b47e-fe4befdea6cf",
   "metadata": {},
   "outputs": [
    {
     "name": "stdout",
     "output_type": "stream",
     "text": [
      "1\n",
      "2.13\n",
      "Python\n",
      "False\n",
      "True\n"
     ]
    }
   ],
   "source": [
    "# CRIANDO VARIAVEIS E EXIBINDO VARIAVEIS\n",
    "#inteiro \n",
    "x = 1\n",
    "print(x)\n",
    "\n",
    "#float \n",
    "y=2.13\n",
    "print(y)\n",
    "\n",
    "#string\n",
    "m= 'Python'\n",
    "print(m)\n",
    "\n",
    "#Logico \n",
    "w = True\n",
    "y = False\n",
    "print(y)\n",
    "print(w)"
   ]
  },
  {
   "cell_type": "code",
   "execution_count": 5,
   "id": "c4dc1224-b063-4354-b8d7-9520ec1a8cf9",
   "metadata": {},
   "outputs": [
    {
     "name": "stdout",
     "output_type": "stream",
     "text": [
      "5.28\n"
     ]
    }
   ],
   "source": [
    "#FAZENDO CALCULOS SIMPLES \n",
    "\n",
    "y=10\n",
    "x=34\n",
    "z=12\n",
    "calculo = (x+y) * z/100\n",
    "print(calculo)"
   ]
  },
  {
   "cell_type": "code",
   "execution_count": 6,
   "id": "799c41e5-1e4e-4daa-b8a9-241bcedf9940",
   "metadata": {},
   "outputs": [
    {
     "name": "stdout",
     "output_type": "stream",
     "text": [
      "o valor da variavel é  10\n"
     ]
    }
   ],
   "source": [
    "# Exibindo texto no console\n",
    "x= 10\n",
    "print('o valor da variavel é ',x)"
   ]
  },
  {
   "cell_type": "code",
   "execution_count": 16,
   "id": "0e4f818c-73bd-4ae5-a9c3-dc90ca42ae39",
   "metadata": {},
   "outputs": [
    {
     "name": "stdout",
     "output_type": "stream",
     "text": [
      "<class 'int'>\n",
      "<class 'str'>\n"
     ]
    }
   ],
   "source": [
    "# Verrifica tipo da variavel \n",
    "\n",
    "print(type(x))\n",
    "print(type(m))\n"
   ]
  },
  {
   "cell_type": "code",
   "execution_count": 23,
   "id": "f4bc2696-0b70-4f3d-86c8-e2795468f5b6",
   "metadata": {},
   "outputs": [
    {
     "name": "stdout",
     "output_type": "stream",
     "text": [
      "Informe o valor: \n"
     ]
    },
    {
     "name": "stdin",
     "output_type": "stream",
     "text": [
      " 2\n"
     ]
    },
    {
     "name": "stdout",
     "output_type": "stream",
     "text": [
      "<class 'int'>\n"
     ]
    }
   ],
   "source": [
    "print('Informe o valor: ')\n",
    "i=int(input())\n",
    "print(type(i))"
   ]
  },
  {
   "cell_type": "code",
   "execution_count": 24,
   "id": "d71d6154-6268-4f39-8e97-e895061af9c1",
   "metadata": {},
   "outputs": [
    {
     "name": "stdin",
     "output_type": "stream",
     "text": [
      "Infome um valor 2\n"
     ]
    }
   ],
   "source": []
  },
  {
   "cell_type": "code",
   "execution_count": 27,
   "id": "7ffd8234-9321-4169-ab97-337b7dc1cb8f",
   "metadata": {},
   "outputs": [
    {
     "name": "stdin",
     "output_type": "stream",
     "text": [
      "Infome um valor 10\n"
     ]
    },
    {
     "name": "stdout",
     "output_type": "stream",
     "text": [
      "<class 'int'>\n",
      "<class 'str'>\n"
     ]
    }
   ],
   "source": [
    "#conversão de valores\n",
    "i=input('Infome um valor')\n",
    "x = int(i)\n",
    "print(type(x))\n",
    "print(type(i))\n"
   ]
  },
  {
   "cell_type": "code",
   "execution_count": null,
   "id": "b2ebf305-6d99-4491-81d3-b8739a853e6f",
   "metadata": {},
   "outputs": [],
   "source": []
  },
  {
   "cell_type": "code",
   "execution_count": null,
   "id": "a9559968-8afd-4952-9ea5-b0cf61c36700",
   "metadata": {},
   "outputs": [],
   "source": []
  }
 ],
 "metadata": {
  "kernelspec": {
   "display_name": "Python [conda env:anaconda] *",
   "language": "python",
   "name": "conda-env-anaconda-py"
  },
  "language_info": {
   "codemirror_mode": {
    "name": "ipython",
    "version": 3
   },
   "file_extension": ".py",
   "mimetype": "text/x-python",
   "name": "python",
   "nbconvert_exporter": "python",
   "pygments_lexer": "ipython3",
   "version": "3.12.7"
  }
 },
 "nbformat": 4,
 "nbformat_minor": 5
}
