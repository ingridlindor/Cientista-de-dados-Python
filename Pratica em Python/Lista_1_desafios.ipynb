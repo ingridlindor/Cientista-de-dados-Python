{
 "cells": [
  {
   "cell_type": "markdown",
   "id": "db33cdfe",
   "metadata": {},
   "source": [
    "# Desafio 1\n",
    "Faça um programa que tenha a função chamada amplitude. A função deve receber uma lista e imprimir a amplitude. Crie um codigo para testar essa função\n",
    "Amplitude é  diferença entre o maior e o menor valor da lista"
   ]
  },
  {
   "cell_type": "code",
   "execution_count": 26,
   "id": "c6ab80b1",
   "metadata": {},
   "outputs": [
    {
     "name": "stdout",
     "output_type": "stream",
     "text": [
      "A amplitude é igual a:  74\n"
     ]
    }
   ],
   "source": [
    "def amplitude(lst):\n",
    "    maior=max(lst)\n",
    "    menor=min(lst)\n",
    "    result = maior - menor\n",
    "    print('A amplitude é igual a: ', result)\n",
    "\n",
    "amplitude([12,3,4,5,76,2])"
   ]
  },
  {
   "cell_type": "markdown",
   "id": "b1f8964b",
   "metadata": {},
   "source": [
    "# Desafio 2\n",
    "Faça um programa que receba uma string e imprima esta string na forma vertical. Por exemplo, se recebe 'Python' deve imprimir:\n",
    "p\n",
    "y\n",
    "t\n",
    "h\n",
    "o\n",
    "n\n",
    "Dica: uma string do python funciona como uma lista!"
   ]
  },
  {
   "cell_type": "code",
   "execution_count": 25,
   "id": "c4e6e32b",
   "metadata": {},
   "outputs": [
    {
     "name": "stdout",
     "output_type": "stream",
     "text": [
      "O\n",
      "l\n",
      "a\n",
      " \n",
      "m\n",
      "u\n",
      "n\n",
      "d\n",
      "o\n"
     ]
    }
   ],
   "source": [
    "palavra = input(\"Digite uma palavra: \")\n",
    "for letra in palavra:\n",
    "    print(letra)\n"
   ]
  },
  {
   "cell_type": "markdown",
   "id": "e964b3cb",
   "metadata": {},
   "source": [
    "# Desafio 3\n",
    "crie um programa que leia o peso de uma carga em numeros inteiros, se o pesso for até 10kgm informe que o valor sera de R$ 50,00. \n",
    "Entre 11 a 20 kg, valor sera de R$ 80,00\n",
    "Se for maior que 20 informe que o transporte nao sera aceito \n",
    "Teste varios pesos\n",
    "\n"
   ]
  },
  {
   "cell_type": "code",
   "execution_count": 20,
   "id": "957bcc93",
   "metadata": {},
   "outputs": [
    {
     "name": "stdout",
     "output_type": "stream",
     "text": [
      "transporte nao acceito\n"
     ]
    }
   ],
   "source": [
    "peso = int(input('Qual o peso da sua mala?: '))\n",
    "\n",
    "if peso <= 10:\n",
    "    print('O valor do transporte será R$ 50,00')\n",
    "\n",
    "elif peso<=20:\n",
    "    print('O valor sera R$ 80,00')\n",
    "else:\n",
    "    print('transporte nao acceito')\n",
    "    "
   ]
  }
 ],
 "metadata": {
  "kernelspec": {
   "display_name": "base",
   "language": "python",
   "name": "python3"
  },
  "language_info": {
   "codemirror_mode": {
    "name": "ipython",
    "version": 3
   },
   "file_extension": ".py",
   "mimetype": "text/x-python",
   "name": "python",
   "nbconvert_exporter": "python",
   "pygments_lexer": "ipython3",
   "version": "3.12.7"
  }
 },
 "nbformat": 4,
 "nbformat_minor": 5
}
