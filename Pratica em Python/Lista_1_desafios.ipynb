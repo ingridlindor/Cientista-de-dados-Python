{
 "cells": [
  {
   "cell_type": "markdown",
   "id": "db33cdfe",
   "metadata": {},
   "source": [
    "# Desafio 1\n",
    "Faça um programa que tenha a função chamada amplitude. A função deve receber uma lista e imprimir a amplitude. Crie um codigo para testar essa função\n",
    "Amplitude é  diferença entre o maior e o menor valor da lista"
   ]
  },
  {
   "cell_type": "code",
   "execution_count": null,
   "id": "2b8fc60d",
   "metadata": {
    "vscode": {
     "languageId": "plaintext"
    }
   },
   "outputs": [],
   "source": []
  },
  {
   "cell_type": "markdown",
   "id": "b1f8964b",
   "metadata": {},
   "source": [
    "# Desafio 2\n",
    "Faça um programa que receba uma string e imprima esta string na forma vertical. Por exemplo, se recebe 'Python' deve imprimir:\n",
    "p\n",
    "y\n",
    "t\n",
    "h\n",
    "o\n",
    "n\n",
    "Dica: uma string do python funciona como uma lista!"
   ]
  },
  {
   "cell_type": "markdown",
   "id": "e964b3cb",
   "metadata": {},
   "source": [
    "# Desafio 3\n",
    "ccrie um programa que leia o peso de uma carga em numeros inteiros, se o pesso for até 10kgm informe que o valor sera de R$ 50,00. \n",
    "Entre 11 a 20 kg, valor sera de R$ 80,00\n",
    "Se for maior que 20 informe que o transporte nao sera aceito \n",
    "Teste varios pesos\n",
    "\n"
   ]
  },
  {
   "cell_type": "code",
   "execution_count": null,
   "id": "dc70e3ca",
   "metadata": {
    "vscode": {
     "languageId": "plaintext"
    }
   },
   "outputs": [],
   "source": [
    "peso"
   ]
  },
  {
   "cell_type": "code",
   "execution_count": null,
   "id": "957bcc93",
   "metadata": {
    "vscode": {
     "languageId": "plaintext"
    }
   },
   "outputs": [],
   "source": []
  }
 ],
 "metadata": {
  "language_info": {
   "name": "python"
  }
 },
 "nbformat": 4,
 "nbformat_minor": 5
}
