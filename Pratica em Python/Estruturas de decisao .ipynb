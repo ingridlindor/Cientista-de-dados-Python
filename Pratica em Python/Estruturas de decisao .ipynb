{
 "cells": [
  {
   "cell_type": "code",
   "execution_count": 11,
   "id": "0917dae8-5ee1-4d1d-ac82-7ad9572b5dee",
   "metadata": {},
   "outputs": [
    {
     "name": "stdin",
     "output_type": "stream",
     "text": [
      "Digite sua nota:  10\n"
     ]
    },
    {
     "name": "stdout",
     "output_type": "stream",
     "text": [
      "Aprovado\n"
     ]
    }
   ],
   "source": [
    "nota =int(input('Digite sua nota: '))\n",
    "if nota < 7:\n",
    "    print('Reprovado')\n",
    "else:\n",
    "    print('Aprovado')"
   ]
  },
  {
   "cell_type": "code",
   "execution_count": 12,
   "id": "f6fda177-0000-41fd-8ef8-12c335bfeefd",
   "metadata": {},
   "outputs": [
    {
     "name": "stdin",
     "output_type": "stream",
     "text": [
      "Digite sua nota:  6\n"
     ]
    },
    {
     "name": "stdout",
     "output_type": "stream",
     "text": [
      "Reprovado\n"
     ]
    }
   ],
   "source": [
    "nota =int(input('Digite sua nota: '))\n",
    "if nota < 7:\n",
    "    print('Reprovado')\n",
    "else:\n",
    "    print('Aprovado')"
   ]
  },
  {
   "cell_type": "code",
   "execution_count": 14,
   "id": "9e6eca29-f8ec-42fb-8bda-185489a29b88",
   "metadata": {},
   "outputs": [
    {
     "name": "stdout",
     "output_type": "stream",
     "text": [
      "Reprovado\n",
      "Aprovado\n"
     ]
    }
   ],
   "source": [
    "nota = 7\n",
    "frequencia = 60\n",
    "if nota >= 7 and frequencia >70:\n",
    "    print('Aprovado')\n",
    "else:\n",
    "    print('Reprovado')\n",
    "if nota >= 7 or frequencia > 70: \n",
    "    print('Aprovado')\n",
    "else:\n",
    "    print('Reprovado')"
   ]
  },
  {
   "cell_type": "code",
   "execution_count": null,
   "id": "cfdcbfb2-b350-493b-a072-d3812cc9c45a",
   "metadata": {},
   "outputs": [],
   "source": [
    "nota = 7\n",
    "if nota <= 4:\n",
    "    print('Reprovado')\n",
    "elif nota >4 and <=6:\n",
    "    print('Recuperação')\n",
    "else:\n",
    "    print('Aprovado')"
   ]
  }
 ],
 "metadata": {
  "kernelspec": {
   "display_name": "Python [conda env:anaconda] *",
   "language": "python",
   "name": "conda-env-anaconda-py"
  },
  "language_info": {
   "codemirror_mode": {
    "name": "ipython",
    "version": 3
   },
   "file_extension": ".py",
   "mimetype": "text/x-python",
   "name": "python",
   "nbconvert_exporter": "python",
   "pygments_lexer": "ipython3",
   "version": "3.12.7"
  }
 },
 "nbformat": 4,
 "nbformat_minor": 5
}
