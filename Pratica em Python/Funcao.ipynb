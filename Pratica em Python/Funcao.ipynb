{
 "cells": [
  {
   "cell_type": "code",
   "execution_count": 17,
   "id": "5defa3f8",
   "metadata": {},
   "outputs": [
    {
     "name": "stdout",
     "output_type": "stream",
     "text": [
      "Esta é uam função\n"
     ]
    }
   ],
   "source": [
    "#funlçao simples\n",
    "def imprime():\n",
    "    print('Esta é uam função')\n",
    "imprime()"
   ]
  },
  {
   "cell_type": "code",
   "execution_count": 18,
   "id": "c8301b69",
   "metadata": {},
   "outputs": [
    {
     "name": "stdout",
     "output_type": "stream",
     "text": [
      "Imprima esse texto\n"
     ]
    }
   ],
   "source": [
    "#funlão com parametro \n",
    "def imprime2(n):\n",
    "    print(n)\n",
    "imprime2('Imprima esse texto')"
   ]
  },
  {
   "cell_type": "code",
   "execution_count": 21,
   "id": "545fad19",
   "metadata": {},
   "outputs": [
    {
     "name": "stdout",
     "output_type": "stream",
     "text": [
      "9\n"
     ]
    }
   ],
   "source": [
    "#função com retorno \n",
    "def potencia(n):\n",
    "    return n*n\n",
    "\n",
    "x=potencia(3)\n",
    "print(x)"
   ]
  },
  {
   "cell_type": "code",
   "execution_count": null,
   "id": "6911736c",
   "metadata": {},
   "outputs": [
    {
     "name": "stdout",
     "output_type": "stream",
     "text": [
      "1\n",
      "2\n",
      "3\n",
      "4\n",
      "5\n",
      "___________________\n",
      "1\n",
      "2\n",
      "3\n",
      "4\n",
      "5\n",
      "6\n",
      "7\n",
      "8\n",
      "9\n",
      "10\n"
     ]
    }
   ],
   "source": [
    "#com valor default\n",
    "def intervalo(inic=1,fim=10):\n",
    "    for inic in range(1,fim+1):\n",
    "        print(inic)\n",
    "#com parametro        \n",
    "x=intervalo(1,5)\n",
    "print('___________________')\n",
    "\n",
    "#sem parametro\n",
    "y=intervalo()"
   ]
  },
  {
   "cell_type": "code",
   "execution_count": null,
   "id": "d297cca5",
   "metadata": {},
   "outputs": [],
   "source": []
  }
 ],
 "metadata": {
  "kernelspec": {
   "display_name": "base",
   "language": "python",
   "name": "python3"
  },
  "language_info": {
   "codemirror_mode": {
    "name": "ipython",
    "version": 3
   },
   "file_extension": ".py",
   "mimetype": "text/x-python",
   "name": "python",
   "nbconvert_exporter": "python",
   "pygments_lexer": "ipython3",
   "version": "3.12.7"
  }
 },
 "nbformat": 4,
 "nbformat_minor": 5
}
