{
 "cells": [
  {
   "cell_type": "code",
   "execution_count": 9,
   "id": "55642991-8f39-49f0-abd7-0cc27798cc55",
   "metadata": {},
   "outputs": [
    {
     "name": "stdout",
     "output_type": "stream",
     "text": [
      "{'João': 6.0, 'Maria': 8.0, 'Pedro': 6.5}\n"
     ]
    }
   ],
   "source": [
    "#dicionarios: Estrutura chavve/valor\n",
    "notas = {'João': 6.0, 'Maria': 8.0, 'Pedro':6.5}\n",
    "print(notas)"
   ]
  },
  {
   "cell_type": "code",
   "execution_count": 13,
   "id": "8d913e3c-e0dc-40fa-a558-6ae5baa93fbf",
   "metadata": {},
   "outputs": [
    {
     "name": "stdout",
     "output_type": "stream",
     "text": [
      "6.0\n"
     ]
    }
   ],
   "source": [
    "print(notas['João'])"
   ]
  },
  {
   "cell_type": "code",
   "execution_count": 21,
   "id": "bf50b295-7d6b-4b7c-97f2-d218593f27d7",
   "metadata": {},
   "outputs": [
    {
     "data": {
      "text/plain": [
       "dict_keys(['João', 'Maria', 'Pedro'])"
      ]
     },
     "execution_count": 21,
     "metadata": {},
     "output_type": "execute_result"
    }
   ],
   "source": [
    "#todas as chaves\n",
    "notas.keys()\n"
   ]
  },
  {
   "cell_type": "code",
   "execution_count": 23,
   "id": "106153e1-431c-4022-a717-1ceb3c05430f",
   "metadata": {},
   "outputs": [
    {
     "data": {
      "text/plain": [
       "dict_values([6.0, 8.0, 6.5])"
      ]
     },
     "execution_count": 23,
     "metadata": {},
     "output_type": "execute_result"
    }
   ],
   "source": [
    "#Todos os valores\n",
    "notas.values()"
   ]
  },
  {
   "cell_type": "code",
   "execution_count": 25,
   "id": "2a315b9a-87b2-4057-be93-077186948069",
   "metadata": {},
   "outputs": [
    {
     "name": "stdout",
     "output_type": "stream",
     "text": [
      "True\n",
      "False\n"
     ]
    }
   ],
   "source": [
    "#Testa Logicamente a existencia \n",
    "print('João' in notas)\n",
    "print('Fernando' in notas)"
   ]
  },
  {
   "cell_type": "code",
   "execution_count": 27,
   "id": "2a53d386-c1ab-4a11-82a4-254c52c8d32f",
   "metadata": {},
   "outputs": [
    {
     "name": "stdout",
     "output_type": "stream",
     "text": [
      "{'Maria': 8.0, 'Pedro': 6.5}\n"
     ]
    }
   ],
   "source": [
    "#Apagando elementes\n",
    "del notas['João']\n",
    "print(notas)"
   ]
  },
  {
   "cell_type": "code",
   "execution_count": 29,
   "id": "ed0774fa-6e3e-4a53-8430-fd6804d564c2",
   "metadata": {},
   "outputs": [
    {
     "name": "stdout",
     "output_type": "stream",
     "text": [
      "{'Maria': 8.0, 'Pedro': 6.5, 'Ana': 9.0}\n"
     ]
    }
   ],
   "source": [
    "#add elemento \n",
    "notas ['Ana'] =9.0\n",
    "print(notas)"
   ]
  },
  {
   "cell_type": "code",
   "execution_count": 31,
   "id": "9843116a-e234-4450-9d59-4be681034289",
   "metadata": {},
   "outputs": [
    {
     "data": {
      "text/plain": [
       "'Nao Encontrado!'"
      ]
     },
     "execution_count": 31,
     "metadata": {},
     "output_type": "execute_result"
    }
   ],
   "source": [
    "#Busca um valor, se nao encontrar mostra segundo parametro\n",
    "notas.get('Geraldo','Nao Encontrado!')"
   ]
  },
  {
   "cell_type": "code",
   "execution_count": 33,
   "id": "b1d06c28-17a1-499e-a1a3-1cea69247db7",
   "metadata": {},
   "outputs": [
    {
     "name": "stdout",
     "output_type": "stream",
     "text": [
      "{'Spark', 'Hive', 'Sqoop'}\n"
     ]
    }
   ],
   "source": [
    "#sets: Conjuntos nao ordenados de elementos nao repetidos\n",
    "bigdata = {'Spark','Hive','Sqoop'}\n",
    "print(bigdata)"
   ]
  },
  {
   "cell_type": "code",
   "execution_count": 35,
   "id": "14e7b603-cb52-41c4-9295-bf7286056772",
   "metadata": {},
   "outputs": [
    {
     "name": "stdout",
     "output_type": "stream",
     "text": [
      "True\n"
     ]
    }
   ],
   "source": [
    "#Verifica a existencia\n",
    "print('Spark' in bigdata)"
   ]
  },
  {
   "cell_type": "code",
   "execution_count": 37,
   "id": "2985d54c-72eb-40ad-917e-343298254d87",
   "metadata": {},
   "outputs": [
    {
     "data": {
      "text/plain": [
       "{'Hadoop', 'Hive', 'Spark', 'Sqoop'}"
      ]
     },
     "execution_count": 37,
     "metadata": {},
     "output_type": "execute_result"
    }
   ],
   "source": [
    "#Adiciona Elemento\n",
    "bigdata.add('Hadoop')\n",
    "bigdata"
   ]
  },
  {
   "cell_type": "code",
   "execution_count": 39,
   "id": "337ef000-f6c5-4961-a30d-b9d2365cdffc",
   "metadata": {},
   "outputs": [
    {
     "name": "stdout",
     "output_type": "stream",
     "text": [
      "4\n"
     ]
    }
   ],
   "source": [
    "#Numero de elementos\n",
    "print(len(bigdata))"
   ]
  },
  {
   "cell_type": "code",
   "execution_count": 47,
   "id": "ad61b267-2b57-4aac-b68f-906a12562f66",
   "metadata": {},
   "outputs": [
    {
     "name": "stdout",
     "output_type": "stream",
     "text": [
      "{'Spark', 'Hive', 'Sqoop', 'Hadoop'}\n"
     ]
    }
   ],
   "source": [
    "#nao vai adicionar elementos repetidos\n",
    "bigdata.add('Spark')\n",
    "print(bigdata)"
   ]
  },
  {
   "cell_type": "code",
   "execution_count": 51,
   "id": "40cf1a7b-5e79-4a1c-9764-8eedb8d30f00",
   "metadata": {},
   "outputs": [
    {
     "data": {
      "text/plain": [
       "(1, 2, 3, 4, 5, 6, 7)"
      ]
     },
     "execution_count": 51,
     "metadata": {},
     "output_type": "execute_result"
    }
   ],
   "source": [
    "#Tuplas: Sao listas que nao podem ser alteradas\n",
    "# listas usam [] e  tuplas usam ()\n",
    "tupla =(1,2,3,4,5,6,7)\n",
    "tupla"
   ]
  },
  {
   "cell_type": "code",
   "execution_count": 53,
   "id": "3fea9cb0-e409-424a-ac05-e6a3879dd4f9",
   "metadata": {},
   "outputs": [
    {
     "data": {
      "text/plain": [
       "5"
      ]
     },
     "execution_count": 53,
     "metadata": {},
     "output_type": "execute_result"
    }
   ],
   "source": [
    "tupla[4]"
   ]
  },
  {
   "cell_type": "code",
   "execution_count": 61,
   "id": "80298136-a74f-4839-896f-befbc5642619",
   "metadata": {},
   "outputs": [
    {
     "data": {
      "text/plain": [
       "{(0, 1): 0, (1, 2): 1, (2, 3): 2}"
      ]
     },
     "execution_count": 61,
     "metadata": {},
     "output_type": "execute_result"
    }
   ],
   "source": [
    "#diccionarios em que cada posiciao recebe uma tupla\n",
    "dici2={(0,1): 0,(1,2):1,(2,3):2}\n",
    "dici2"
   ]
  },
  {
   "cell_type": "code",
   "execution_count": 63,
   "id": "288526f4-47c4-496b-aa56-f9acc49be88d",
   "metadata": {},
   "outputs": [
    {
     "name": "stdout",
     "output_type": "stream",
     "text": [
      "<class 'dict'>\n",
      "<class 'set'>\n",
      "<class 'tuple'>\n"
     ]
    }
   ],
   "source": [
    "print(type(notas))\n",
    "print(type(bigdata))\n",
    "print(type(tupla))"
   ]
  },
  {
   "cell_type": "code",
   "execution_count": null,
   "id": "427ffab7-89c9-4878-babb-750b376afeb3",
   "metadata": {},
   "outputs": [],
   "source": []
  }
 ],
 "metadata": {
  "kernelspec": {
   "display_name": "Python [conda env:anaconda] *",
   "language": "python",
   "name": "conda-env-anaconda-py"
  },
  "language_info": {
   "codemirror_mode": {
    "name": "ipython",
    "version": 3
   },
   "file_extension": ".py",
   "mimetype": "text/x-python",
   "name": "python",
   "nbconvert_exporter": "python",
   "pygments_lexer": "ipython3",
   "version": "3.12.7"
  }
 },
 "nbformat": 4,
 "nbformat_minor": 5
}
