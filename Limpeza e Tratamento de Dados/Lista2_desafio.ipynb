{
 "cells": [
  {
   "cell_type": "markdown",
   "id": "2ab5b3ab",
   "metadata": {},
   "source": [
    "#Tratar dados do arquivo 'tempo.csv'\n",
    "\n",
    "Aparencia: sol, nublado, chuva\n",
    "Teperatura: -130  130F\n",
    "Imidade 0  100\n",
    "jogar: sim/nao\n",
    "\n",
    "Tratar valores Nas"
   ]
  }
 ],
 "metadata": {
  "language_info": {
   "name": "python"
  }
 },
 "nbformat": 4,
 "nbformat_minor": 5
}
